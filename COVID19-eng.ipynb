{
 "cells": [
  {
   "cell_type": "markdown",
   "metadata": {},
   "source": [
    "## COVID19-eng.csv load and examine\n",
    "\n",
    "https://www150.statcan.gc.ca/n1/pub/13-26-0003/132600032020001-eng.htm"
   ]
  },
  {
   "cell_type": "code",
   "execution_count": 1,
   "metadata": {
    "ExecuteTime": {
     "end_time": "2021-01-27T00:39:03.693772Z",
     "start_time": "2021-01-27T00:39:03.557773Z"
    }
   },
   "outputs": [
    {
     "data": {
      "text/plain": [
       "('1.19.2', '1.2.2')"
      ]
     },
     "execution_count": 1,
     "metadata": {},
     "output_type": "execute_result"
    }
   ],
   "source": [
    "import numpy as np\n",
    "import pandas as pd\n",
    "np.__version__, pd.__version__\n",
    "# ('1.19.2', '1.2.2')"
   ]
  },
  {
   "cell_type": "code",
   "execution_count": 2,
   "metadata": {},
   "outputs": [],
   "source": [
    "csvName = 'COVID19-eng-2021-03-04'\n",
    "csvFileName = 'data/' +  csvName + '.csv'\n",
    "covid19 = pd.read_csv(csvFileName, header=0, index_col='Case identifier number')"
   ]
  },
  {
   "cell_type": "code",
   "execution_count": 3,
   "metadata": {},
   "outputs": [
    {
     "data": {
      "text/html": [
       "<div>\n",
       "<style scoped>\n",
       "    .dataframe tbody tr th:only-of-type {\n",
       "        vertical-align: middle;\n",
       "    }\n",
       "\n",
       "    .dataframe tbody tr th {\n",
       "        vertical-align: top;\n",
       "    }\n",
       "\n",
       "    .dataframe thead th {\n",
       "        text-align: right;\n",
       "    }\n",
       "</style>\n",
       "<table border=\"1\" class=\"dataframe\">\n",
       "  <thead>\n",
       "    <tr style=\"text-align: right;\">\n",
       "      <th></th>\n",
       "      <th>Region</th>\n",
       "      <th>Episode week</th>\n",
       "      <th>Episode week group</th>\n",
       "      <th>Episode year</th>\n",
       "      <th>Gender</th>\n",
       "      <th>Age group</th>\n",
       "      <th>Occupation</th>\n",
       "      <th>Asymptomatic</th>\n",
       "      <th>Onset week of symptoms</th>\n",
       "      <th>Onset year of symptoms</th>\n",
       "      <th>Hospital status</th>\n",
       "      <th>Recovered</th>\n",
       "      <th>Recovery week</th>\n",
       "      <th>Recovery year</th>\n",
       "      <th>Death</th>\n",
       "      <th>Transmission</th>\n",
       "    </tr>\n",
       "    <tr>\n",
       "      <th>Case identifier number</th>\n",
       "      <th></th>\n",
       "      <th></th>\n",
       "      <th></th>\n",
       "      <th></th>\n",
       "      <th></th>\n",
       "      <th></th>\n",
       "      <th></th>\n",
       "      <th></th>\n",
       "      <th></th>\n",
       "      <th></th>\n",
       "      <th></th>\n",
       "      <th></th>\n",
       "      <th></th>\n",
       "      <th></th>\n",
       "      <th></th>\n",
       "      <th></th>\n",
       "    </tr>\n",
       "  </thead>\n",
       "  <tbody>\n",
       "    <tr>\n",
       "      <th>1</th>\n",
       "      <td>3</td>\n",
       "      <td>2</td>\n",
       "      <td>0</td>\n",
       "      <td>21</td>\n",
       "      <td>1</td>\n",
       "      <td>2</td>\n",
       "      <td>9</td>\n",
       "      <td>9</td>\n",
       "      <td>99</td>\n",
       "      <td>99</td>\n",
       "      <td>9</td>\n",
       "      <td>1</td>\n",
       "      <td>99</td>\n",
       "      <td>99</td>\n",
       "      <td>2</td>\n",
       "      <td>9</td>\n",
       "    </tr>\n",
       "    <tr>\n",
       "      <th>2</th>\n",
       "      <td>2</td>\n",
       "      <td>3</td>\n",
       "      <td>0</td>\n",
       "      <td>21</td>\n",
       "      <td>2</td>\n",
       "      <td>2</td>\n",
       "      <td>1</td>\n",
       "      <td>2</td>\n",
       "      <td>3</td>\n",
       "      <td>21</td>\n",
       "      <td>3</td>\n",
       "      <td>1</td>\n",
       "      <td>3</td>\n",
       "      <td>21</td>\n",
       "      <td>2</td>\n",
       "      <td>1</td>\n",
       "    </tr>\n",
       "    <tr>\n",
       "      <th>3</th>\n",
       "      <td>2</td>\n",
       "      <td>3</td>\n",
       "      <td>0</td>\n",
       "      <td>21</td>\n",
       "      <td>1</td>\n",
       "      <td>1</td>\n",
       "      <td>4</td>\n",
       "      <td>1</td>\n",
       "      <td>99</td>\n",
       "      <td>99</td>\n",
       "      <td>3</td>\n",
       "      <td>1</td>\n",
       "      <td>4</td>\n",
       "      <td>21</td>\n",
       "      <td>2</td>\n",
       "      <td>1</td>\n",
       "    </tr>\n",
       "    <tr>\n",
       "      <th>4</th>\n",
       "      <td>3</td>\n",
       "      <td>35</td>\n",
       "      <td>0</td>\n",
       "      <td>20</td>\n",
       "      <td>1</td>\n",
       "      <td>3</td>\n",
       "      <td>4</td>\n",
       "      <td>2</td>\n",
       "      <td>35</td>\n",
       "      <td>20</td>\n",
       "      <td>9</td>\n",
       "      <td>1</td>\n",
       "      <td>99</td>\n",
       "      <td>99</td>\n",
       "      <td>2</td>\n",
       "      <td>1</td>\n",
       "    </tr>\n",
       "    <tr>\n",
       "      <th>5</th>\n",
       "      <td>2</td>\n",
       "      <td>46</td>\n",
       "      <td>0</td>\n",
       "      <td>20</td>\n",
       "      <td>2</td>\n",
       "      <td>8</td>\n",
       "      <td>4</td>\n",
       "      <td>2</td>\n",
       "      <td>46</td>\n",
       "      <td>20</td>\n",
       "      <td>3</td>\n",
       "      <td>1</td>\n",
       "      <td>48</td>\n",
       "      <td>20</td>\n",
       "      <td>2</td>\n",
       "      <td>1</td>\n",
       "    </tr>\n",
       "    <tr>\n",
       "      <th>6</th>\n",
       "      <td>2</td>\n",
       "      <td>52</td>\n",
       "      <td>0</td>\n",
       "      <td>20</td>\n",
       "      <td>1</td>\n",
       "      <td>5</td>\n",
       "      <td>4</td>\n",
       "      <td>1</td>\n",
       "      <td>99</td>\n",
       "      <td>99</td>\n",
       "      <td>3</td>\n",
       "      <td>1</td>\n",
       "      <td>99</td>\n",
       "      <td>99</td>\n",
       "      <td>2</td>\n",
       "      <td>1</td>\n",
       "    </tr>\n",
       "    <tr>\n",
       "      <th>7</th>\n",
       "      <td>3</td>\n",
       "      <td>39</td>\n",
       "      <td>0</td>\n",
       "      <td>20</td>\n",
       "      <td>1</td>\n",
       "      <td>1</td>\n",
       "      <td>4</td>\n",
       "      <td>9</td>\n",
       "      <td>39</td>\n",
       "      <td>20</td>\n",
       "      <td>3</td>\n",
       "      <td>1</td>\n",
       "      <td>99</td>\n",
       "      <td>99</td>\n",
       "      <td>2</td>\n",
       "      <td>9</td>\n",
       "    </tr>\n",
       "    <tr>\n",
       "      <th>8</th>\n",
       "      <td>3</td>\n",
       "      <td>42</td>\n",
       "      <td>0</td>\n",
       "      <td>20</td>\n",
       "      <td>1</td>\n",
       "      <td>2</td>\n",
       "      <td>4</td>\n",
       "      <td>2</td>\n",
       "      <td>42</td>\n",
       "      <td>20</td>\n",
       "      <td>3</td>\n",
       "      <td>1</td>\n",
       "      <td>99</td>\n",
       "      <td>99</td>\n",
       "      <td>2</td>\n",
       "      <td>1</td>\n",
       "    </tr>\n",
       "    <tr>\n",
       "      <th>9</th>\n",
       "      <td>2</td>\n",
       "      <td>52</td>\n",
       "      <td>0</td>\n",
       "      <td>20</td>\n",
       "      <td>1</td>\n",
       "      <td>5</td>\n",
       "      <td>4</td>\n",
       "      <td>2</td>\n",
       "      <td>52</td>\n",
       "      <td>20</td>\n",
       "      <td>3</td>\n",
       "      <td>1</td>\n",
       "      <td>99</td>\n",
       "      <td>99</td>\n",
       "      <td>2</td>\n",
       "      <td>1</td>\n",
       "    </tr>\n",
       "    <tr>\n",
       "      <th>10</th>\n",
       "      <td>2</td>\n",
       "      <td>7</td>\n",
       "      <td>0</td>\n",
       "      <td>21</td>\n",
       "      <td>2</td>\n",
       "      <td>4</td>\n",
       "      <td>4</td>\n",
       "      <td>1</td>\n",
       "      <td>99</td>\n",
       "      <td>99</td>\n",
       "      <td>3</td>\n",
       "      <td>9</td>\n",
       "      <td>99</td>\n",
       "      <td>99</td>\n",
       "      <td>9</td>\n",
       "      <td>9</td>\n",
       "    </tr>\n",
       "  </tbody>\n",
       "</table>\n",
       "</div>"
      ],
      "text/plain": [
       "                        Region  Episode week  Episode week group  \\\n",
       "Case identifier number                                             \n",
       "1                            3             2                   0   \n",
       "2                            2             3                   0   \n",
       "3                            2             3                   0   \n",
       "4                            3            35                   0   \n",
       "5                            2            46                   0   \n",
       "6                            2            52                   0   \n",
       "7                            3            39                   0   \n",
       "8                            3            42                   0   \n",
       "9                            2            52                   0   \n",
       "10                           2             7                   0   \n",
       "\n",
       "                        Episode year  Gender  Age group  Occupation  \\\n",
       "Case identifier number                                                \n",
       "1                                 21       1          2           9   \n",
       "2                                 21       2          2           1   \n",
       "3                                 21       1          1           4   \n",
       "4                                 20       1          3           4   \n",
       "5                                 20       2          8           4   \n",
       "6                                 20       1          5           4   \n",
       "7                                 20       1          1           4   \n",
       "8                                 20       1          2           4   \n",
       "9                                 20       1          5           4   \n",
       "10                                21       2          4           4   \n",
       "\n",
       "                        Asymptomatic  Onset week of symptoms  \\\n",
       "Case identifier number                                         \n",
       "1                                  9                      99   \n",
       "2                                  2                       3   \n",
       "3                                  1                      99   \n",
       "4                                  2                      35   \n",
       "5                                  2                      46   \n",
       "6                                  1                      99   \n",
       "7                                  9                      39   \n",
       "8                                  2                      42   \n",
       "9                                  2                      52   \n",
       "10                                 1                      99   \n",
       "\n",
       "                        Onset year of symptoms  Hospital status  Recovered  \\\n",
       "Case identifier number                                                       \n",
       "1                                           99                9          1   \n",
       "2                                           21                3          1   \n",
       "3                                           99                3          1   \n",
       "4                                           20                9          1   \n",
       "5                                           20                3          1   \n",
       "6                                           99                3          1   \n",
       "7                                           20                3          1   \n",
       "8                                           20                3          1   \n",
       "9                                           20                3          1   \n",
       "10                                          99                3          9   \n",
       "\n",
       "                        Recovery week  Recovery year  Death  Transmission  \n",
       "Case identifier number                                                     \n",
       "1                                  99             99      2             9  \n",
       "2                                   3             21      2             1  \n",
       "3                                   4             21      2             1  \n",
       "4                                  99             99      2             1  \n",
       "5                                  48             20      2             1  \n",
       "6                                  99             99      2             1  \n",
       "7                                  99             99      2             9  \n",
       "8                                  99             99      2             1  \n",
       "9                                  99             99      2             1  \n",
       "10                                 99             99      9             9  "
      ]
     },
     "execution_count": 3,
     "metadata": {},
     "output_type": "execute_result"
    }
   ],
   "source": [
    "covid19.head(10)"
   ]
  },
  {
   "cell_type": "code",
   "execution_count": 4,
   "metadata": {},
   "outputs": [
    {
     "name": "stdout",
     "output_type": "stream",
     "text": [
      "<class 'pandas.core.frame.DataFrame'>\n",
      "Int64Index: 839926 entries, 1 to 839926\n",
      "Data columns (total 16 columns):\n",
      " #   Column                  Non-Null Count   Dtype\n",
      "---  ------                  --------------   -----\n",
      " 0   Region                  839926 non-null  int64\n",
      " 1   Episode week            839926 non-null  int64\n",
      " 2   Episode week group      839926 non-null  int64\n",
      " 3   Episode year            839926 non-null  int64\n",
      " 4   Gender                  839926 non-null  int64\n",
      " 5   Age group               839926 non-null  int64\n",
      " 6   Occupation              839926 non-null  int64\n",
      " 7   Asymptomatic            839926 non-null  int64\n",
      " 8   Onset week of symptoms  839926 non-null  int64\n",
      " 9   Onset year of symptoms  839926 non-null  int64\n",
      " 10  Hospital status         839926 non-null  int64\n",
      " 11  Recovered               839926 non-null  int64\n",
      " 12  Recovery week           839926 non-null  int64\n",
      " 13  Recovery year           839926 non-null  int64\n",
      " 14  Death                   839926 non-null  int64\n",
      " 15  Transmission            839926 non-null  int64\n",
      "dtypes: int64(16)\n",
      "memory usage: 108.9 MB\n"
     ]
    }
   ],
   "source": [
    "covid19.info()"
   ]
  },
  {
   "cell_type": "code",
   "execution_count": 5,
   "metadata": {},
   "outputs": [
    {
     "name": "stdout",
     "output_type": "stream",
     "text": [
      "Region => [3, 2, 4, 5, 1]\n",
      "Episode week group => [0, 4, 5, 1, 2, 3]\n",
      "Episode year => [21, 20, 99]\n",
      "Gender => [1, 2, 9]\n",
      "Age group => [2, 1, 3, 8, 5, 4, 6, 7, 99]\n",
      "Occupation => [9, 1, 4, 2, 3]\n",
      "Asymptomatic => [9, 2, 1]\n",
      "Hospital status => [9, 3, 2, 1]\n",
      "Recovered => [1, 9, 2]\n",
      "Death => [2, 9, 1]\n",
      "Transmission => [9, 1, 2]\n"
     ]
    }
   ],
   "source": [
    "for column in enumerate(['Region','Episode week group','Episode year','Gender','Age group','Occupation','Asymptomatic','Hospital status','Recovered', 'Death', 'Transmission']):\n",
    "    print(column[1], '=>', covid19[column[1]].unique().tolist())"
   ]
  },
  {
   "cell_type": "code",
   "execution_count": 6,
   "metadata": {},
   "outputs": [],
   "source": [
    "region = { 1:'Atlantic (New Brunswick, Nova Scotia, Prince Edward Island, Newfoundland and Labrador)', 2:'Quebec', 3:'Ontario and Nunavut', 4:'Prairies (Manitoba, Saskatchewan, Alberta) and the Northwest Territories', 5:'British Columbia and Yukon'}\n",
    "gender = {1:'Male', 2:'Female', 9:'Not Stated/Other'}\n",
    "ageGroup = {1:'0-19', 2:'20-29', 3:'30-39', 4:'40-49', 5:'50-59', 6:'60-69', 7:'70-79', 8:'80+', 99:'Not Stated'}\n",
    "occupation = {1:'Health Care Worker', 2:'School or daycare worker/attendee', 3:'Long Term Care Resident', 4:'Other', 9:'Not Stated'}\n",
    "asymptomatic = {1:'Yes', 2:'No', 9:'Not Stated'}\n",
    "hospitalStatus = {1:'Hospitalized - ICU', 2:'Hospitalized - Non-ICU', 3:'Not Hospitalized', 9:'Not Stated/Unknown'}\n",
    "recovered = {1:'Yes', 2:'No', 9:'Not Stated/Unknown'}\n",
    "death = {1:'Yes', 2:'No', 9:'Not Stated'}\n",
    "transmission = {1:'Domestic Acquisition: “Contact of COVID Case” or “Contact with traveler” or “Unknown Source”', 2:'International Travel', 9:'Not Stated/Pending'}"
   ]
  },
  {
   "cell_type": "code",
   "execution_count": 7,
   "metadata": {
    "ExecuteTime": {
     "end_time": "2021-01-26T23:39:49.327991Z",
     "start_time": "2021-01-26T23:39:46.054634Z"
    }
   },
   "outputs": [],
   "source": [
    "# https://www.geeksforgeeks.org/creating-a-sqlite-database-from-csv-with-python/\n",
    "\n",
    "createDb = False\n",
    "\n",
    "if createDb:\n",
    "    \n",
    "    import sqlite3\n",
    "    # Connect to SQLite database \n",
    "    conn = sqlite3.connect(r'COVID19-eng.db') \n",
    "    # Load CSV data into Pandas DataFrame \n",
    "    covid19.to_sql(csvName, conn, if_exists='replace', index=False) \n",
    "    # Close connection to SQLite database \n",
    "    conn.close() \n",
    "    \n",
    "    \n",
    "\n",
    "# # Import required libraries \n",
    "# import sqlite3 \n",
    "# import pandas as pd \n",
    "\n",
    "# # Connect to SQLite database \n",
    "# conn = sqlite3.connect(r'covid19.db') \n",
    "\n",
    "# # Load CSV data into Pandas DataFrame \n",
    "# # stud_data = pd.read_csv('stud_data.csv') \n",
    "# # Write the data to a sqlite table \n",
    "# covid19.to_sql('covid', conn, if_exists='replace', index=False) \n",
    "\n",
    "# # Create a cursor object \n",
    "# # cur = conn.cursor()\n",
    "# # Fetch and display result \n",
    "# # for row in cur.execute('SELECT * FROM covid'): \n",
    "# # \tprint(row) \n",
    "# # Close connection to SQLite database \n",
    "# conn.close() \n",
    "\n",
    "\n"
   ]
  },
  {
   "cell_type": "code",
   "execution_count": 8,
   "metadata": {},
   "outputs": [],
   "source": [
    "# 1) This is on KAUWITB in the KAUWITB branch, Friday, March 5, 2021 4:34pm"
   ]
  },
  {
   "cell_type": "code",
   "execution_count": 9,
   "metadata": {},
   "outputs": [],
   "source": [
    "# 2) This is on KAUWITB in the MacBookPro branch, Friday, March 5, 2021, 4:43pm"
   ]
  },
  {
   "cell_type": "code",
   "execution_count": 10,
   "metadata": {},
   "outputs": [],
   "source": [
    "# 3) This is on KAUWITB in the KAUWITB branch, Friday, March 5, 2021 4:59pm"
   ]
  },
  {
   "cell_type": "code",
   "execution_count": 11,
   "metadata": {},
   "outputs": [],
   "source": [
    "# 4) This is on KAUWITB in the KAUWITB branch, Friday, March 5, 2021 5:08pm ... how can I set main so that no one\n",
    "#    can update it directly, but has to update from a branch??"
   ]
  },
  {
   "cell_type": "markdown",
   "metadata": {},
   "source": [
    "Let's start with the weekly trend of cases."
   ]
  },
  {
   "cell_type": "code",
   "execution_count": 15,
   "metadata": {},
   "outputs": [
    {
     "data": {
      "text/html": [
       "<div>\n",
       "<style scoped>\n",
       "    .dataframe tbody tr th:only-of-type {\n",
       "        vertical-align: middle;\n",
       "    }\n",
       "\n",
       "    .dataframe tbody tr th {\n",
       "        vertical-align: top;\n",
       "    }\n",
       "\n",
       "    .dataframe thead th {\n",
       "        text-align: right;\n",
       "    }\n",
       "</style>\n",
       "<table border=\"1\" class=\"dataframe\">\n",
       "  <thead>\n",
       "    <tr style=\"text-align: right;\">\n",
       "      <th></th>\n",
       "      <th>Episode year</th>\n",
       "      <th>Episode week</th>\n",
       "      <th>Region</th>\n",
       "      <th>YearWeek</th>\n",
       "    </tr>\n",
       "  </thead>\n",
       "  <tbody>\n",
       "    <tr>\n",
       "      <th>0</th>\n",
       "      <td>20</td>\n",
       "      <td>8</td>\n",
       "      <td>108</td>\n",
       "      <td>2020-8</td>\n",
       "    </tr>\n",
       "    <tr>\n",
       "      <th>1</th>\n",
       "      <td>20</td>\n",
       "      <td>9</td>\n",
       "      <td>313</td>\n",
       "      <td>2020-9</td>\n",
       "    </tr>\n",
       "    <tr>\n",
       "      <th>2</th>\n",
       "      <td>20</td>\n",
       "      <td>10</td>\n",
       "      <td>2052</td>\n",
       "      <td>2020-10</td>\n",
       "    </tr>\n",
       "    <tr>\n",
       "      <th>3</th>\n",
       "      <td>20</td>\n",
       "      <td>11</td>\n",
       "      <td>5610</td>\n",
       "      <td>2020-11</td>\n",
       "    </tr>\n",
       "    <tr>\n",
       "      <th>4</th>\n",
       "      <td>20</td>\n",
       "      <td>12</td>\n",
       "      <td>6175</td>\n",
       "      <td>2020-12</td>\n",
       "    </tr>\n",
       "  </tbody>\n",
       "</table>\n",
       "</div>"
      ],
      "text/plain": [
       "   Episode year  Episode week  Region YearWeek\n",
       "0            20             8     108   2020-8\n",
       "1            20             9     313   2020-9\n",
       "2            20            10    2052  2020-10\n",
       "3            20            11    5610  2020-11\n",
       "4            20            12    6175  2020-12"
      ]
     },
     "execution_count": 15,
     "metadata": {},
     "output_type": "execute_result"
    }
   ],
   "source": [
    "weeklyCaseCount = covid19.groupby(['Episode year','Episode week'])['Region'].count().reset_index()\n",
    "# remove where Episode week = 99\n",
    "weeklyCaseCount.drop(weeklyCaseCount.loc[weeklyCaseCount['Episode week'] == 99].index, inplace=True)\n",
    "# add a YearWeek column\n",
    "weeklyCaseCount['YearWeek'] = '20' + weeklyCaseCount['Episode year'].astype(str) + '-' + weeklyCaseCount['Episode week'].astype(str)\n",
    "weeklyCaseCount.head()"
   ]
  },
  {
   "cell_type": "code",
   "execution_count": 16,
   "metadata": {},
   "outputs": [
    {
     "data": {
      "image/png": "[encoded data removed]",
      "text/plain": [
       "<Figure size 1152x288 with 1 Axes>"
      ]
     },
     "metadata": {
      "needs_background": "light"
     },
     "output_type": "display_data"
    }
   ],
   "source": [
    "from matplotlib import pyplot as plt\n",
    "\n",
    "xAxis = weeklyCaseCount['YearWeek']\n",
    "yAxis = weeklyCaseCount['Region']\n",
    "plt.figure(figsize=(16,4))\n",
    "plt.bar(xAxis, yAxis)\n",
    "plt.xticks(rotation=90)\n",
    "plt.show()"
   ]
  },
  {
   "cell_type": "markdown",
   "metadata": {},
   "source": [
    "The stuff below here is the original crap that can probably be removed."
   ]
  },
  {
   "cell_type": "code",
   "execution_count": null,
   "metadata": {},
   "outputs": [],
   "source": [
    "groupBy = ['Region', 'Gender','Age group']\n",
    "totalCases = covid19.groupby(groupBy)[['Region']].count()\n",
    "totalCases.rename(columns = {'Region':'Cases'}, inplace = True)\n",
    "\n",
    "totalDeaths = covid19.loc[covid19['Death']==1].groupby(groupBy)[['Region']].count()\n",
    "totalDeaths.rename(columns = {'Region':'Deaths'}, inplace = True) \n",
    "\n",
    "notHospitalized = covid19.loc[covid19['Hospital status']==3].groupby(groupBy)[['Region']].count()\n",
    "notHospitalized.rename(columns = {'Region':'Not Hospitalized'}, inplace = True) \n",
    "\n",
    "hospitalized = covid19.loc[(covid19['Hospital status'].isin([1,2]))].groupby(groupBy)[['Region']].count()\n",
    "hospitalized.rename(columns = {'Region':'Hospitalized'}, inplace = True) \n",
    "\n",
    "\n",
    "regionGenderAgeGroup = pd.merge(totalCases, notHospitalized, on=groupBy, how='outer')\n",
    "regionGenderAgeGroup = pd.merge(regionGenderAgeGroup, hospitalized, on=groupBy, how='outer')\n",
    "regionGenderAgeGroup = pd.merge(regionGenderAgeGroup, totalDeaths, on=groupBy, how='outer')\n",
    "\n",
    "regionGenderAgeGroup = regionGenderAgeGroup.fillna(0)\n",
    "\n",
    "regionGenderAgeGroup['Deaths'] = regionGenderAgeGroup['Deaths'].astype(int)\n",
    "regionGenderAgeGroup['Not Hospitalized'] = regionGenderAgeGroup['Not Hospitalized'].astype(int)\n",
    "regionGenderAgeGroup['Hospitalized'] = regionGenderAgeGroup['Hospitalized'].astype(int)\n",
    "\n",
    "regionGenderAgeGroup.head(10)"
   ]
  },
  {
   "cell_type": "code",
   "execution_count": null,
   "metadata": {},
   "outputs": [],
   "source": [
    "regionGenderAgeGroup.to_csv('regionGenderAgeGroup.csv')"
   ]
  },
  {
   "cell_type": "code",
   "execution_count": null,
   "metadata": {},
   "outputs": [],
   "source": [
    "# Number of cases\n",
    "totalCases = covid19.groupby(['Gender','Age group','Region'])[['Region']].count()\n",
    "totalCases.rename(columns = {'Region':'Cases'}, inplace = True) \n",
    "totalCases.head(50)\n",
    "\n",
    "\n"
   ]
  },
  {
   "cell_type": "code",
   "execution_count": null,
   "metadata": {},
   "outputs": [],
   "source": [
    "# Number of cases\n",
    "totalCases = covid19.groupby(['Gender','Age group'])[['Region']].count()\n",
    "totalCases.rename(columns = {'Region':'Cases'}, inplace = True) \n",
    "totalCases.head(50)"
   ]
  },
  {
   "cell_type": "code",
   "execution_count": null,
   "metadata": {},
   "outputs": [],
   "source": [
    "# Number of deaths \n",
    "totalDeaths = covid19.loc[covid19['Death']==1].groupby(['Gender','Age group'])[['Region']].count()\n",
    "totalDeaths.rename(columns = {'Region':'Deaths'}, inplace = True) \n",
    "totalDeaths.head(50)"
   ]
  },
  {
   "cell_type": "code",
   "execution_count": null,
   "metadata": {},
   "outputs": [],
   "source": [
    "# Number NOT hospitalized\n",
    "notHospitalized = covid19.loc[covid19['Hospital status']==3].groupby(['Gender','Age group'])[['Region']].count()\n",
    "notHospitalized.rename(columns = {'Region':'Not Hospitalized'}, inplace = True) \n",
    "notHospitalized.head(50)"
   ]
  },
  {
   "cell_type": "code",
   "execution_count": null,
   "metadata": {},
   "outputs": [],
   "source": [
    "# Hospitalized in the ICU or not in the ICU ... \n",
    "hospitalized = covid19.loc[(covid19['Hospital status']==1) | (covid19['Hospital status']==2)].groupby(['Gender','Age group'])[['Region']].count()\n",
    "hospitalized.rename(columns = {'Region':'Hospitalized'}, inplace = True) \n",
    "hospitalized.head(50)"
   ]
  },
  {
   "cell_type": "code",
   "execution_count": null,
   "metadata": {},
   "outputs": [],
   "source": [
    "genderAge = pd.merge(totalCases, notHospitalized, on=['Gender','Age group'], how='outer')\n",
    "genderAge = pd.merge(genderAge, hospitalized, on=['Gender','Age group'], how='outer')\n",
    "genderAge = pd.merge(genderAge, totalDeaths, on=['Gender','Age group'], how='outer')\n",
    "\n",
    "genderAge = genderAge.fillna(0)\n",
    "\n",
    "genderAge['Hospitalized'] = genderAge['Hospitalized'].astype(int)\n",
    "genderAge['Deaths'] = genderAge['Deaths'].astype(int)\n",
    "\n",
    "genderAge['% Not Hospitalized'] = (genderAge['Not Hospitalized'] / genderAge['Cases']) * 100\n",
    "genderAge['% Hospitalized'] = (genderAge['Hospitalized'] / genderAge['Cases']) * 100\n",
    "genderAge['% Deaths'] = (genderAge['Deaths'] / genderAge['Cases']) * 100\n",
    "\n",
    "genderAge.head(50)"
   ]
  },
  {
   "cell_type": "code",
   "execution_count": null,
   "metadata": {},
   "outputs": [],
   "source": [
    "# Cases \tNot Hospitalized \tHospitalized \tDeaths \t% Not Hospitalized \t% Hospitalized \t% Deaths\n",
    "genderAge2 = genderAge[['Cases', 'Not Hospitalized', '% Not Hospitalized', 'Hospitalized', '% Hospitalized', 'Deaths', '% Deaths']] \n",
    "genderAge2.head(50)"
   ]
  },
  {
   "cell_type": "code",
   "execution_count": null,
   "metadata": {
    "ExecuteTime": {
     "end_time": "2021-01-26T22:40:00.004418Z",
     "start_time": "2021-01-26T22:39:59.700561Z"
    }
   },
   "outputs": [],
   "source": [
    "covid19.describe()"
   ]
  },
  {
   "cell_type": "markdown",
   "metadata": {},
   "source": [
    "Create dictionaries for some of the numeric fields."
   ]
  },
  {
   "cell_type": "code",
   "execution_count": null,
   "metadata": {
    "ExecuteTime": {
     "end_time": "2021-01-26T22:40:00.008458Z",
     "start_time": "2021-01-26T22:40:00.005303Z"
    }
   },
   "outputs": [],
   "source": [
    "region = { 1:'Atlantic (New Brunswick, Nova Scotia, Prince Edward Island, Newfoundland and Labrador)', 2:'Quebec', 3:'Ontario and Nunavut', 4:'Prairies (Manitoba, Saskatchewan, Alberta) and the Northwest Territories', 5:'British Columbia and Yukon'}\n",
    "gender = {1:'Male', 2:'Female', 9:'Not Stated/Other'}\n",
    "ageGroup = {1:'0-19', 2:'20-29', 3:'30-39', 4:'40-49', 5:'50-59', 6:'60-69', 7:'70-79', 8:'80+', 99:'Not Stated'}\n",
    "occupation = {1:'Health Care Worker', 2:'School or daycare worker/attendee', 3:'Long Term Care Resident', 4:'Other', 9:'Not Stated'}\n",
    "asymptomatic = {1:'Yes', 2:'No', 9:'Not Stated'}\n",
    "sympton = {1:'Yes', 2:'No', 9:'Not Stated'}\n",
    "hospitalStatus = {1:'Hospitalized - ICU', 2:'Hospitalized - Non-ICU', 3:'Not Hospitalized', 9:'Not Stated/Unknown'}\n",
    "recovered = {1:'Yes', 2:'No', 9:'Not Stated/Unknown'}\n",
    "death = {1:'Yes', 2:'No', 9:'Not Stated'}\n",
    "transmission = {1:'Domestic Acquisition: “Contact of COVID Case” or “Contact with traveler” or “Unknown Source”', 2:'International Travel', 9:'Not Stated/Pending'}"
   ]
  },
  {
   "cell_type": "code",
   "execution_count": null,
   "metadata": {
    "ExecuteTime": {
     "end_time": "2021-01-26T22:40:00.070379Z",
     "start_time": "2021-01-26T22:40:00.009293Z"
    }
   },
   "outputs": [],
   "source": [
    "allMales = covid19.loc[covid19['Gender']==1]\n",
    "allFemales = covid19.loc[covid19['Gender']==2]\n",
    "allGenderNotstated = covid19.loc[covid19['Gender']==9]\n",
    "malesCount = len(allMales)\n",
    "femalesCount = len(allFemales)\n",
    "genderNotstatedCount = len(allGenderNotstated)"
   ]
  },
  {
   "cell_type": "code",
   "execution_count": null,
   "metadata": {
    "ExecuteTime": {
     "end_time": "2021-01-26T22:40:00.073700Z",
     "start_time": "2021-01-26T22:40:00.071530Z"
    }
   },
   "outputs": [],
   "source": [
    "len(covid19) - (malesCount + femalesCount) == genderNotstatedCount"
   ]
  },
  {
   "cell_type": "code",
   "execution_count": null,
   "metadata": {},
   "outputs": [],
   "source": [
    "allMales['Row1'] = 1"
   ]
  },
  {
   "cell_type": "code",
   "execution_count": null,
   "metadata": {},
   "outputs": [],
   "source": [
    "allMales.head(25)"
   ]
  },
  {
   "cell_type": "code",
   "execution_count": null,
   "metadata": {
    "ExecuteTime": {
     "end_time": "2021-01-26T22:40:00.124282Z",
     "start_time": "2021-01-26T22:40:00.074506Z"
    }
   },
   "outputs": [],
   "source": [
    "allMales.groupby('Age group').sum()"
   ]
  },
  {
   "cell_type": "code",
   "execution_count": null,
   "metadata": {
    "ExecuteTime": {
     "end_time": "2021-01-26T22:40:00.165054Z",
     "start_time": "2021-01-26T22:40:00.125114Z"
    }
   },
   "outputs": [],
   "source": [
    "allMales.groupby('Age group').count()"
   ]
  },
  {
   "cell_type": "code",
   "execution_count": null,
   "metadata": {},
   "outputs": [],
   "source": [
    "allMales.groupby(['Gender','Age group']).count()"
   ]
  }
 ],
 "metadata": {
  "kernelspec": {
   "display_name": "Python 3",
   "language": "python",
   "name": "python3"
  },
  "language_info": {
   "codemirror_mode": {
    "name": "ipython",
    "version": 3
   },
   "file_extension": ".py",
   "mimetype": "text/x-python",
   "name": "python",
   "nbconvert_exporter": "python",
   "pygments_lexer": "ipython3",
   "version": "3.8.5"
  }
 },
 "nbformat": 4,
 "nbformat_minor": 4
}
