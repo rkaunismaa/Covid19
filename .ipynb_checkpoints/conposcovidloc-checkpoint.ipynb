{
 "cells": [
  {
   "cell_type": "code",
   "execution_count": 1,
   "metadata": {
    "ExecuteTime": {
     "end_time": "2021-02-19T18:30:36.136217Z",
     "start_time": "2021-02-19T18:30:35.995168Z"
    }
   },
   "outputs": [
    {
     "data": {
      "text/plain": [
       "('1.19.2', '1.2.2')"
      ]
     },
     "execution_count": 1,
     "metadata": {},
     "output_type": "execute_result"
    }
   ],
   "source": [
    "import numpy as np\n",
    "import pandas as pd\n",
    "np.__version__, pd.__version__"
   ]
  },
  {
   "cell_type": "code",
   "execution_count": 2,
   "metadata": {
    "ExecuteTime": {
     "end_time": "2021-02-19T18:30:38.126718Z",
     "start_time": "2021-02-19T18:30:37.683191Z"
    }
   },
   "outputs": [],
   "source": [
    "# https://data.ontario.ca/dataset/confirmed-positive-cases-of-covid-19-in-ontario\n",
    "csvName = 'data/conposcovidloc-2021-02-20'\n",
    "conposcovidloc = pd.read_csv(csvName + '.csv', header=0, index_col='Row_ID')"
   ]
  },
  {
   "cell_type": "code",
   "execution_count": null,
   "metadata": {
    "ExecuteTime": {
     "end_time": "2021-02-19T16:56:01.124230Z",
     "start_time": "2021-02-19T16:55:57.708751Z"
    }
   },
   "outputs": [],
   "source": [
    "# https://www.geeksforgeeks.org/creating-a-sqlite-database-from-csv-with-python/\n",
    "\n",
    "# Import required libraries \n",
    "import sqlite3 \n",
    "import pandas as pd \n",
    "\n",
    "# Connect to SQLite database \n",
    "conn = sqlite3.connect(r'conposcovidloc.db') \n",
    "\n",
    "# Load CSV data into Pandas DataFrame \n",
    "# stud_data = pd.read_csv('stud_data.csv') \n",
    "# Write the data to a sqlite table \n",
    "conposcovidloc.to_sql(csvName, conn, if_exists='replace', index=True) \n",
    "\n",
    "# Create a cursor object \n",
    "# cur = conn.cursor()\n",
    "# Fetch and display result \n",
    "# for row in cur.execute('SELECT * FROM covid'): \n",
    "# \tprint(row) \n",
    "# Close connection to SQLite database \n",
    "conn.close() "
   ]
  },
  {
   "cell_type": "code",
   "execution_count": null,
   "metadata": {
    "ExecuteTime": {
     "end_time": "2021-02-19T18:08:44.259038Z",
     "start_time": "2021-02-19T18:08:44.243328Z"
    }
   },
   "outputs": [],
   "source": [
    "conposcovidloc.head(10)"
   ]
  },
  {
   "cell_type": "code",
   "execution_count": null,
   "metadata": {
    "ExecuteTime": {
     "end_time": "2021-02-19T17:55:52.788933Z",
     "start_time": "2021-02-19T17:55:52.694632Z"
    }
   },
   "outputs": [],
   "source": [
    "conposcovidloc.count()"
   ]
  },
  {
   "cell_type": "code",
   "execution_count": null,
   "metadata": {
    "ExecuteTime": {
     "end_time": "2021-02-19T17:55:57.503540Z",
     "start_time": "2021-02-19T17:55:57.491295Z"
    }
   },
   "outputs": [],
   "source": [
    "conposcovidloc.Client_Gender.unique()"
   ]
  },
  {
   "cell_type": "code",
   "execution_count": null,
   "metadata": {
    "ExecuteTime": {
     "end_time": "2021-02-19T17:55:58.047994Z",
     "start_time": "2021-02-19T17:55:58.008375Z"
    }
   },
   "outputs": [],
   "source": [
    "len(conposcovidloc.Client_Gender.unique())"
   ]
  },
  {
   "cell_type": "code",
   "execution_count": null,
   "metadata": {
    "ExecuteTime": {
     "end_time": "2021-02-19T17:55:58.552807Z",
     "start_time": "2021-02-19T17:55:58.518355Z"
    }
   },
   "outputs": [],
   "source": [
    "conposcovidloc.Outcome1.unique()"
   ]
  },
  {
   "cell_type": "code",
   "execution_count": null,
   "metadata": {
    "ExecuteTime": {
     "end_time": "2021-02-19T17:55:58.988565Z",
     "start_time": "2021-02-19T17:55:58.957687Z"
    }
   },
   "outputs": [],
   "source": [
    "conposcovidloc.Age_Group.unique()"
   ]
  },
  {
   "cell_type": "code",
   "execution_count": null,
   "metadata": {
    "ExecuteTime": {
     "end_time": "2021-02-19T17:55:59.380459Z",
     "start_time": "2021-02-19T17:55:59.365316Z"
    }
   },
   "outputs": [],
   "source": [
    "conposcovidloc.Case_AcquisitionInfo.unique()"
   ]
  },
  {
   "cell_type": "code",
   "execution_count": null,
   "metadata": {
    "ExecuteTime": {
     "end_time": "2021-02-19T17:55:59.843865Z",
     "start_time": "2021-02-19T17:55:59.837413Z"
    }
   },
   "outputs": [],
   "source": [
    "conposcovidloc.Reporting_PHU_ID.unique()"
   ]
  },
  {
   "cell_type": "code",
   "execution_count": null,
   "metadata": {
    "ExecuteTime": {
     "end_time": "2021-02-19T17:56:03.076585Z",
     "start_time": "2021-02-19T17:56:03.073061Z"
    }
   },
   "outputs": [],
   "source": [
    "len(conposcovidloc.Reporting_PHU_ID.unique())"
   ]
  },
  {
   "cell_type": "code",
   "execution_count": null,
   "metadata": {
    "ExecuteTime": {
     "end_time": "2021-02-19T17:56:03.520977Z",
     "start_time": "2021-02-19T17:56:03.494834Z"
    }
   },
   "outputs": [],
   "source": [
    "conposcovidloc.Outbreak_Related.unique()"
   ]
  },
  {
   "cell_type": "markdown",
   "metadata": {},
   "source": [
    "## Number of cases by day:"
   ]
  },
  {
   "cell_type": "code",
   "execution_count": 3,
   "metadata": {
    "ExecuteTime": {
     "end_time": "2021-02-19T18:51:14.750141Z",
     "start_time": "2021-02-19T18:51:14.716453Z"
    }
   },
   "outputs": [
    {
     "data": {
      "text/html": [
       "<div>\n",
       "<style scoped>\n",
       "    .dataframe tbody tr th:only-of-type {\n",
       "        vertical-align: middle;\n",
       "    }\n",
       "\n",
       "    .dataframe tbody tr th {\n",
       "        vertical-align: top;\n",
       "    }\n",
       "\n",
       "    .dataframe thead th {\n",
       "        text-align: right;\n",
       "    }\n",
       "</style>\n",
       "<table border=\"1\" class=\"dataframe\">\n",
       "  <thead>\n",
       "    <tr style=\"text-align: right;\">\n",
       "      <th></th>\n",
       "      <th>CaseCount</th>\n",
       "      <th>EpisodeDate</th>\n",
       "      <th>EpisodeYear</th>\n",
       "      <th>EpisodeWeek</th>\n",
       "    </tr>\n",
       "    <tr>\n",
       "      <th>Accurate_Episode_Date</th>\n",
       "      <th></th>\n",
       "      <th></th>\n",
       "      <th></th>\n",
       "      <th></th>\n",
       "    </tr>\n",
       "  </thead>\n",
       "  <tbody>\n",
       "    <tr>\n",
       "      <th>2020-01-01</th>\n",
       "      <td>3</td>\n",
       "      <td>2020-01-01</td>\n",
       "      <td>2020</td>\n",
       "      <td>1</td>\n",
       "    </tr>\n",
       "    <tr>\n",
       "      <th>2020-01-05</th>\n",
       "      <td>1</td>\n",
       "      <td>2020-01-05</td>\n",
       "      <td>2020</td>\n",
       "      <td>1</td>\n",
       "    </tr>\n",
       "    <tr>\n",
       "      <th>2020-01-09</th>\n",
       "      <td>1</td>\n",
       "      <td>2020-01-09</td>\n",
       "      <td>2020</td>\n",
       "      <td>2</td>\n",
       "    </tr>\n",
       "    <tr>\n",
       "      <th>2020-01-10</th>\n",
       "      <td>1</td>\n",
       "      <td>2020-01-10</td>\n",
       "      <td>2020</td>\n",
       "      <td>2</td>\n",
       "    </tr>\n",
       "    <tr>\n",
       "      <th>2020-01-12</th>\n",
       "      <td>1</td>\n",
       "      <td>2020-01-12</td>\n",
       "      <td>2020</td>\n",
       "      <td>2</td>\n",
       "    </tr>\n",
       "    <tr>\n",
       "      <th>2020-01-13</th>\n",
       "      <td>1</td>\n",
       "      <td>2020-01-13</td>\n",
       "      <td>2020</td>\n",
       "      <td>3</td>\n",
       "    </tr>\n",
       "    <tr>\n",
       "      <th>2020-01-15</th>\n",
       "      <td>1</td>\n",
       "      <td>2020-01-15</td>\n",
       "      <td>2020</td>\n",
       "      <td>3</td>\n",
       "    </tr>\n",
       "    <tr>\n",
       "      <th>2020-01-16</th>\n",
       "      <td>1</td>\n",
       "      <td>2020-01-16</td>\n",
       "      <td>2020</td>\n",
       "      <td>3</td>\n",
       "    </tr>\n",
       "    <tr>\n",
       "      <th>2020-01-21</th>\n",
       "      <td>2</td>\n",
       "      <td>2020-01-21</td>\n",
       "      <td>2020</td>\n",
       "      <td>4</td>\n",
       "    </tr>\n",
       "    <tr>\n",
       "      <th>2020-01-22</th>\n",
       "      <td>3</td>\n",
       "      <td>2020-01-22</td>\n",
       "      <td>2020</td>\n",
       "      <td>4</td>\n",
       "    </tr>\n",
       "  </tbody>\n",
       "</table>\n",
       "</div>"
      ],
      "text/plain": [
       "                       CaseCount EpisodeDate  EpisodeYear  EpisodeWeek\n",
       "Accurate_Episode_Date                                                 \n",
       "2020-01-01                     3  2020-01-01         2020            1\n",
       "2020-01-05                     1  2020-01-05         2020            1\n",
       "2020-01-09                     1  2020-01-09         2020            2\n",
       "2020-01-10                     1  2020-01-10         2020            2\n",
       "2020-01-12                     1  2020-01-12         2020            2\n",
       "2020-01-13                     1  2020-01-13         2020            3\n",
       "2020-01-15                     1  2020-01-15         2020            3\n",
       "2020-01-16                     1  2020-01-16         2020            3\n",
       "2020-01-21                     2  2020-01-21         2020            4\n",
       "2020-01-22                     3  2020-01-22         2020            4"
      ]
     },
     "execution_count": 3,
     "metadata": {},
     "output_type": "execute_result"
    }
   ],
   "source": [
    "caseCountByDay = conposcovidloc.groupby(['Accurate_Episode_Date'])[['Case_Reported_Date']].count()\n",
    "caseCountByDay.rename(columns = {'Case_Reported_Date':'CaseCount'}, inplace = True) \n",
    "caseCountByDay['EpisodeDate'] = pd.to_datetime(caseCountByDay.index, format='%Y-%m-%d')\n",
    "caseCountByDay['EpisodeYear'] = caseCountByDay['EpisodeDate'].dt.year\n",
    "caseCountByDay['EpisodeWeek'] = caseCountByDay['EpisodeDate'].dt.isocalendar().week\n",
    "caseCountByDay.head(10)\n"
   ]
  },
  {
   "cell_type": "code",
   "execution_count": 4,
   "metadata": {
    "ExecuteTime": {
     "end_time": "2021-02-19T18:55:24.606025Z",
     "start_time": "2021-02-19T18:55:24.597534Z"
    }
   },
   "outputs": [
    {
     "data": {
      "text/html": [
       "<div>\n",
       "<style scoped>\n",
       "    .dataframe tbody tr th:only-of-type {\n",
       "        vertical-align: middle;\n",
       "    }\n",
       "\n",
       "    .dataframe tbody tr th {\n",
       "        vertical-align: top;\n",
       "    }\n",
       "\n",
       "    .dataframe thead th {\n",
       "        text-align: right;\n",
       "    }\n",
       "</style>\n",
       "<table border=\"1\" class=\"dataframe\">\n",
       "  <thead>\n",
       "    <tr style=\"text-align: right;\">\n",
       "      <th></th>\n",
       "      <th></th>\n",
       "      <th>CaseCount</th>\n",
       "    </tr>\n",
       "    <tr>\n",
       "      <th>EpisodeYear</th>\n",
       "      <th>EpisodeWeek</th>\n",
       "      <th></th>\n",
       "    </tr>\n",
       "  </thead>\n",
       "  <tbody>\n",
       "    <tr>\n",
       "      <th rowspan=\"53\" valign=\"top\">2020</th>\n",
       "      <th>1</th>\n",
       "      <td>4</td>\n",
       "    </tr>\n",
       "    <tr>\n",
       "      <th>2</th>\n",
       "      <td>3</td>\n",
       "    </tr>\n",
       "    <tr>\n",
       "      <th>3</th>\n",
       "      <td>3</td>\n",
       "    </tr>\n",
       "    <tr>\n",
       "      <th>4</th>\n",
       "      <td>9</td>\n",
       "    </tr>\n",
       "    <tr>\n",
       "      <th>5</th>\n",
       "      <td>5</td>\n",
       "    </tr>\n",
       "    <tr>\n",
       "      <th>6</th>\n",
       "      <td>2</td>\n",
       "    </tr>\n",
       "    <tr>\n",
       "      <th>7</th>\n",
       "      <td>7</td>\n",
       "    </tr>\n",
       "    <tr>\n",
       "      <th>8</th>\n",
       "      <td>18</td>\n",
       "    </tr>\n",
       "    <tr>\n",
       "      <th>9</th>\n",
       "      <td>44</td>\n",
       "    </tr>\n",
       "    <tr>\n",
       "      <th>10</th>\n",
       "      <td>185</td>\n",
       "    </tr>\n",
       "    <tr>\n",
       "      <th>11</th>\n",
       "      <td>890</td>\n",
       "    </tr>\n",
       "    <tr>\n",
       "      <th>12</th>\n",
       "      <td>1966</td>\n",
       "    </tr>\n",
       "    <tr>\n",
       "      <th>13</th>\n",
       "      <td>2141</td>\n",
       "    </tr>\n",
       "    <tr>\n",
       "      <th>14</th>\n",
       "      <td>2749</td>\n",
       "    </tr>\n",
       "    <tr>\n",
       "      <th>15</th>\n",
       "      <td>3284</td>\n",
       "    </tr>\n",
       "    <tr>\n",
       "      <th>16</th>\n",
       "      <td>3988</td>\n",
       "    </tr>\n",
       "    <tr>\n",
       "      <th>17</th>\n",
       "      <td>3118</td>\n",
       "    </tr>\n",
       "    <tr>\n",
       "      <th>18</th>\n",
       "      <td>2711</td>\n",
       "    </tr>\n",
       "    <tr>\n",
       "      <th>19</th>\n",
       "      <td>2192</td>\n",
       "    </tr>\n",
       "    <tr>\n",
       "      <th>20</th>\n",
       "      <td>2500</td>\n",
       "    </tr>\n",
       "    <tr>\n",
       "      <th>21</th>\n",
       "      <td>2350</td>\n",
       "    </tr>\n",
       "    <tr>\n",
       "      <th>22</th>\n",
       "      <td>2040</td>\n",
       "    </tr>\n",
       "    <tr>\n",
       "      <th>23</th>\n",
       "      <td>1643</td>\n",
       "    </tr>\n",
       "    <tr>\n",
       "      <th>24</th>\n",
       "      <td>1236</td>\n",
       "    </tr>\n",
       "    <tr>\n",
       "      <th>25</th>\n",
       "      <td>1201</td>\n",
       "    </tr>\n",
       "    <tr>\n",
       "      <th>26</th>\n",
       "      <td>1119</td>\n",
       "    </tr>\n",
       "    <tr>\n",
       "      <th>27</th>\n",
       "      <td>808</td>\n",
       "    </tr>\n",
       "    <tr>\n",
       "      <th>28</th>\n",
       "      <td>993</td>\n",
       "    </tr>\n",
       "    <tr>\n",
       "      <th>29</th>\n",
       "      <td>1006</td>\n",
       "    </tr>\n",
       "    <tr>\n",
       "      <th>30</th>\n",
       "      <td>830</td>\n",
       "    </tr>\n",
       "    <tr>\n",
       "      <th>31</th>\n",
       "      <td>666</td>\n",
       "    </tr>\n",
       "    <tr>\n",
       "      <th>32</th>\n",
       "      <td>588</td>\n",
       "    </tr>\n",
       "    <tr>\n",
       "      <th>33</th>\n",
       "      <td>689</td>\n",
       "    </tr>\n",
       "    <tr>\n",
       "      <th>34</th>\n",
       "      <td>823</td>\n",
       "    </tr>\n",
       "    <tr>\n",
       "      <th>35</th>\n",
       "      <td>938</td>\n",
       "    </tr>\n",
       "    <tr>\n",
       "      <th>36</th>\n",
       "      <td>1326</td>\n",
       "    </tr>\n",
       "    <tr>\n",
       "      <th>37</th>\n",
       "      <td>2119</td>\n",
       "    </tr>\n",
       "    <tr>\n",
       "      <th>38</th>\n",
       "      <td>3301</td>\n",
       "    </tr>\n",
       "    <tr>\n",
       "      <th>39</th>\n",
       "      <td>4650</td>\n",
       "    </tr>\n",
       "    <tr>\n",
       "      <th>40</th>\n",
       "      <td>4649</td>\n",
       "    </tr>\n",
       "    <tr>\n",
       "      <th>41</th>\n",
       "      <td>4889</td>\n",
       "    </tr>\n",
       "    <tr>\n",
       "      <th>42</th>\n",
       "      <td>5210</td>\n",
       "    </tr>\n",
       "    <tr>\n",
       "      <th>43</th>\n",
       "      <td>6234</td>\n",
       "    </tr>\n",
       "    <tr>\n",
       "      <th>44</th>\n",
       "      <td>6664</td>\n",
       "    </tr>\n",
       "    <tr>\n",
       "      <th>45</th>\n",
       "      <td>9994</td>\n",
       "    </tr>\n",
       "    <tr>\n",
       "      <th>46</th>\n",
       "      <td>10217</td>\n",
       "    </tr>\n",
       "    <tr>\n",
       "      <th>47</th>\n",
       "      <td>10726</td>\n",
       "    </tr>\n",
       "    <tr>\n",
       "      <th>48</th>\n",
       "      <td>12714</td>\n",
       "    </tr>\n",
       "    <tr>\n",
       "      <th>49</th>\n",
       "      <td>13532</td>\n",
       "    </tr>\n",
       "    <tr>\n",
       "      <th>50</th>\n",
       "      <td>14970</td>\n",
       "    </tr>\n",
       "    <tr>\n",
       "      <th>51</th>\n",
       "      <td>16191</td>\n",
       "    </tr>\n",
       "    <tr>\n",
       "      <th>52</th>\n",
       "      <td>19362</td>\n",
       "    </tr>\n",
       "    <tr>\n",
       "      <th>53</th>\n",
       "      <td>13258</td>\n",
       "    </tr>\n",
       "    <tr>\n",
       "      <th rowspan=\"7\" valign=\"top\">2021</th>\n",
       "      <th>1</th>\n",
       "      <td>21234</td>\n",
       "    </tr>\n",
       "    <tr>\n",
       "      <th>2</th>\n",
       "      <td>17351</td>\n",
       "    </tr>\n",
       "    <tr>\n",
       "      <th>3</th>\n",
       "      <td>13568</td>\n",
       "    </tr>\n",
       "    <tr>\n",
       "      <th>4</th>\n",
       "      <td>10334</td>\n",
       "    </tr>\n",
       "    <tr>\n",
       "      <th>5</th>\n",
       "      <td>8488</td>\n",
       "    </tr>\n",
       "    <tr>\n",
       "      <th>6</th>\n",
       "      <td>6560</td>\n",
       "    </tr>\n",
       "    <tr>\n",
       "      <th>7</th>\n",
       "      <td>2432</td>\n",
       "    </tr>\n",
       "  </tbody>\n",
       "</table>\n",
       "</div>"
      ],
      "text/plain": [
       "                         CaseCount\n",
       "EpisodeYear EpisodeWeek           \n",
       "2020        1                    4\n",
       "            2                    3\n",
       "            3                    3\n",
       "            4                    9\n",
       "            5                    5\n",
       "            6                    2\n",
       "            7                    7\n",
       "            8                   18\n",
       "            9                   44\n",
       "            10                 185\n",
       "            11                 890\n",
       "            12                1966\n",
       "            13                2141\n",
       "            14                2749\n",
       "            15                3284\n",
       "            16                3988\n",
       "            17                3118\n",
       "            18                2711\n",
       "            19                2192\n",
       "            20                2500\n",
       "            21                2350\n",
       "            22                2040\n",
       "            23                1643\n",
       "            24                1236\n",
       "            25                1201\n",
       "            26                1119\n",
       "            27                 808\n",
       "            28                 993\n",
       "            29                1006\n",
       "            30                 830\n",
       "            31                 666\n",
       "            32                 588\n",
       "            33                 689\n",
       "            34                 823\n",
       "            35                 938\n",
       "            36                1326\n",
       "            37                2119\n",
       "            38                3301\n",
       "            39                4650\n",
       "            40                4649\n",
       "            41                4889\n",
       "            42                5210\n",
       "            43                6234\n",
       "            44                6664\n",
       "            45                9994\n",
       "            46               10217\n",
       "            47               10726\n",
       "            48               12714\n",
       "            49               13532\n",
       "            50               14970\n",
       "            51               16191\n",
       "            52               19362\n",
       "            53               13258\n",
       "2021        1                21234\n",
       "            2                17351\n",
       "            3                13568\n",
       "            4                10334\n",
       "            5                 8488\n",
       "            6                 6560\n",
       "            7                 2432"
      ]
     },
     "execution_count": 4,
     "metadata": {},
     "output_type": "execute_result"
    }
   ],
   "source": [
    "caseCountByWeek = caseCountByDay.groupby(['EpisodeYear','EpisodeWeek']).sum(['CaseCount'])\n",
    "caseCountByWeek.head(60)"
   ]
  },
  {
   "cell_type": "code",
   "execution_count": 5,
   "metadata": {
    "ExecuteTime": {
     "end_time": "2021-02-19T18:51:20.627339Z",
     "start_time": "2021-02-19T18:51:20.609369Z"
    }
   },
   "outputs": [
    {
     "name": "stdout",
     "output_type": "stream",
     "text": [
      "<class 'pandas.core.frame.DataFrame'>\n",
      "Index: 393 entries, 2020-01-01 to 2021-02-19\n",
      "Data columns (total 4 columns):\n",
      " #   Column       Non-Null Count  Dtype         \n",
      "---  ------       --------------  -----         \n",
      " 0   CaseCount    393 non-null    int64         \n",
      " 1   EpisodeDate  393 non-null    datetime64[ns]\n",
      " 2   EpisodeYear  393 non-null    int64         \n",
      " 3   EpisodeWeek  393 non-null    UInt32        \n",
      "dtypes: UInt32(1), datetime64[ns](1), int64(2)\n",
      "memory usage: 14.2+ KB\n"
     ]
    }
   ],
   "source": [
    "caseCountByDay.info()"
   ]
  },
  {
   "cell_type": "code",
   "execution_count": 8,
   "metadata": {
    "ExecuteTime": {
     "end_time": "2021-02-19T18:39:14.055063Z",
     "start_time": "2021-02-19T18:39:14.052470Z"
    }
   },
   "outputs": [],
   "source": [
    "caseCountByDay['EpisodeDate'] = caseCountByDay.index"
   ]
  },
  {
   "cell_type": "code",
   "execution_count": 12,
   "metadata": {
    "ExecuteTime": {
     "end_time": "2021-02-19T18:42:12.345499Z",
     "start_time": "2021-02-19T18:42:12.339518Z"
    }
   },
   "outputs": [
    {
     "data": {
      "text/html": [
       "<div>\n",
       "<style scoped>\n",
       "    .dataframe tbody tr th:only-of-type {\n",
       "        vertical-align: middle;\n",
       "    }\n",
       "\n",
       "    .dataframe tbody tr th {\n",
       "        vertical-align: top;\n",
       "    }\n",
       "\n",
       "    .dataframe thead th {\n",
       "        text-align: right;\n",
       "    }\n",
       "</style>\n",
       "<table border=\"1\" class=\"dataframe\">\n",
       "  <thead>\n",
       "    <tr style=\"text-align: right;\">\n",
       "      <th></th>\n",
       "      <th>CaseCount</th>\n",
       "      <th>EpisodeDate</th>\n",
       "      <th>Episode_Date</th>\n",
       "    </tr>\n",
       "    <tr>\n",
       "      <th>Accurate_Episode_Date</th>\n",
       "      <th></th>\n",
       "      <th></th>\n",
       "      <th></th>\n",
       "    </tr>\n",
       "  </thead>\n",
       "  <tbody>\n",
       "    <tr>\n",
       "      <th>2020-01-01</th>\n",
       "      <td>3</td>\n",
       "      <td>2020-01-01</td>\n",
       "      <td>2020-01-01</td>\n",
       "    </tr>\n",
       "    <tr>\n",
       "      <th>2020-01-05</th>\n",
       "      <td>1</td>\n",
       "      <td>2020-01-05</td>\n",
       "      <td>2020-01-05</td>\n",
       "    </tr>\n",
       "    <tr>\n",
       "      <th>2020-01-09</th>\n",
       "      <td>1</td>\n",
       "      <td>2020-01-09</td>\n",
       "      <td>2020-01-09</td>\n",
       "    </tr>\n",
       "    <tr>\n",
       "      <th>2020-01-10</th>\n",
       "      <td>1</td>\n",
       "      <td>2020-01-10</td>\n",
       "      <td>2020-01-10</td>\n",
       "    </tr>\n",
       "    <tr>\n",
       "      <th>2020-01-12</th>\n",
       "      <td>1</td>\n",
       "      <td>2020-01-12</td>\n",
       "      <td>2020-01-12</td>\n",
       "    </tr>\n",
       "    <tr>\n",
       "      <th>2020-01-13</th>\n",
       "      <td>1</td>\n",
       "      <td>2020-01-13</td>\n",
       "      <td>2020-01-13</td>\n",
       "    </tr>\n",
       "    <tr>\n",
       "      <th>2020-01-16</th>\n",
       "      <td>1</td>\n",
       "      <td>2020-01-16</td>\n",
       "      <td>2020-01-16</td>\n",
       "    </tr>\n",
       "    <tr>\n",
       "      <th>2020-01-21</th>\n",
       "      <td>2</td>\n",
       "      <td>2020-01-21</td>\n",
       "      <td>2020-01-21</td>\n",
       "    </tr>\n",
       "    <tr>\n",
       "      <th>2020-01-22</th>\n",
       "      <td>3</td>\n",
       "      <td>2020-01-22</td>\n",
       "      <td>2020-01-22</td>\n",
       "    </tr>\n",
       "    <tr>\n",
       "      <th>2020-01-24</th>\n",
       "      <td>2</td>\n",
       "      <td>2020-01-24</td>\n",
       "      <td>2020-01-24</td>\n",
       "    </tr>\n",
       "  </tbody>\n",
       "</table>\n",
       "</div>"
      ],
      "text/plain": [
       "                       CaseCount EpisodeDate Episode_Date\n",
       "Accurate_Episode_Date                                    \n",
       "2020-01-01                     3  2020-01-01   2020-01-01\n",
       "2020-01-05                     1  2020-01-05   2020-01-05\n",
       "2020-01-09                     1  2020-01-09   2020-01-09\n",
       "2020-01-10                     1  2020-01-10   2020-01-10\n",
       "2020-01-12                     1  2020-01-12   2020-01-12\n",
       "2020-01-13                     1  2020-01-13   2020-01-13\n",
       "2020-01-16                     1  2020-01-16   2020-01-16\n",
       "2020-01-21                     2  2020-01-21   2020-01-21\n",
       "2020-01-22                     3  2020-01-22   2020-01-22\n",
       "2020-01-24                     2  2020-01-24   2020-01-24"
      ]
     },
     "execution_count": 12,
     "metadata": {},
     "output_type": "execute_result"
    }
   ],
   "source": [
    "caseCountByDay.head(10)"
   ]
  },
  {
   "cell_type": "code",
   "execution_count": 11,
   "metadata": {
    "ExecuteTime": {
     "end_time": "2021-02-19T18:42:09.165765Z",
     "start_time": "2021-02-19T18:42:09.159749Z"
    }
   },
   "outputs": [],
   "source": [
    "caseCountByDay['Episode_Date'] =  pd.to_datetime(caseCountByDay['EpisodeDate'], format='%Y-%m-%d')"
   ]
  },
  {
   "cell_type": "code",
   "execution_count": null,
   "metadata": {},
   "outputs": [],
   "source": []
  },
  {
   "cell_type": "code",
   "execution_count": null,
   "metadata": {
    "ExecuteTime": {
     "end_time": "2021-02-19T18:16:20.347277Z",
     "start_time": "2021-02-19T18:16:20.340348Z"
    }
   },
   "outputs": [],
   "source": [
    "caseCountByDay['EpisodeDate'] = pd.to_datetime(caseCountByDay['Accurate_Episode_Date'], format='%Y-%m-%d')\n",
    "caseCountByDay.head(10)"
   ]
  },
  {
   "cell_type": "code",
   "execution_count": null,
   "metadata": {
    "ExecuteTime": {
     "end_time": "2021-02-19T17:59:08.697728Z",
     "start_time": "2021-02-19T17:59:08.671887Z"
    }
   },
   "outputs": [],
   "source": [
    "caseCountByDay = conposcovidloc.groupby(['Accurate_Episode_Date'])[['Accurate_Episode_Date']].count()"
   ]
  },
  {
   "cell_type": "code",
   "execution_count": 14,
   "metadata": {
    "ExecuteTime": {
     "end_time": "2021-02-19T18:42:40.079813Z",
     "start_time": "2021-02-19T18:42:40.074391Z"
    }
   },
   "outputs": [
    {
     "data": {
      "text/html": [
       "<div>\n",
       "<style scoped>\n",
       "    .dataframe tbody tr th:only-of-type {\n",
       "        vertical-align: middle;\n",
       "    }\n",
       "\n",
       "    .dataframe tbody tr th {\n",
       "        vertical-align: top;\n",
       "    }\n",
       "\n",
       "    .dataframe thead th {\n",
       "        text-align: right;\n",
       "    }\n",
       "</style>\n",
       "<table border=\"1\" class=\"dataframe\">\n",
       "  <thead>\n",
       "    <tr style=\"text-align: right;\">\n",
       "      <th></th>\n",
       "      <th>CaseCount</th>\n",
       "      <th>EpisodeDate</th>\n",
       "      <th>Episode_Date</th>\n",
       "    </tr>\n",
       "    <tr>\n",
       "      <th>Accurate_Episode_Date</th>\n",
       "      <th></th>\n",
       "      <th></th>\n",
       "      <th></th>\n",
       "    </tr>\n",
       "  </thead>\n",
       "  <tbody>\n",
       "    <tr>\n",
       "      <th>2020-01-01</th>\n",
       "      <td>3</td>\n",
       "      <td>2020-01-01</td>\n",
       "      <td>2020-01-01</td>\n",
       "    </tr>\n",
       "    <tr>\n",
       "      <th>2020-01-05</th>\n",
       "      <td>1</td>\n",
       "      <td>2020-01-05</td>\n",
       "      <td>2020-01-05</td>\n",
       "    </tr>\n",
       "    <tr>\n",
       "      <th>2020-01-09</th>\n",
       "      <td>1</td>\n",
       "      <td>2020-01-09</td>\n",
       "      <td>2020-01-09</td>\n",
       "    </tr>\n",
       "    <tr>\n",
       "      <th>2020-01-10</th>\n",
       "      <td>1</td>\n",
       "      <td>2020-01-10</td>\n",
       "      <td>2020-01-10</td>\n",
       "    </tr>\n",
       "    <tr>\n",
       "      <th>2020-01-12</th>\n",
       "      <td>1</td>\n",
       "      <td>2020-01-12</td>\n",
       "      <td>2020-01-12</td>\n",
       "    </tr>\n",
       "    <tr>\n",
       "      <th>2020-01-13</th>\n",
       "      <td>1</td>\n",
       "      <td>2020-01-13</td>\n",
       "      <td>2020-01-13</td>\n",
       "    </tr>\n",
       "    <tr>\n",
       "      <th>2020-01-16</th>\n",
       "      <td>1</td>\n",
       "      <td>2020-01-16</td>\n",
       "      <td>2020-01-16</td>\n",
       "    </tr>\n",
       "    <tr>\n",
       "      <th>2020-01-21</th>\n",
       "      <td>2</td>\n",
       "      <td>2020-01-21</td>\n",
       "      <td>2020-01-21</td>\n",
       "    </tr>\n",
       "    <tr>\n",
       "      <th>2020-01-22</th>\n",
       "      <td>3</td>\n",
       "      <td>2020-01-22</td>\n",
       "      <td>2020-01-22</td>\n",
       "    </tr>\n",
       "    <tr>\n",
       "      <th>2020-01-24</th>\n",
       "      <td>2</td>\n",
       "      <td>2020-01-24</td>\n",
       "      <td>2020-01-24</td>\n",
       "    </tr>\n",
       "  </tbody>\n",
       "</table>\n",
       "</div>"
      ],
      "text/plain": [
       "                       CaseCount EpisodeDate Episode_Date\n",
       "Accurate_Episode_Date                                    \n",
       "2020-01-01                     3  2020-01-01   2020-01-01\n",
       "2020-01-05                     1  2020-01-05   2020-01-05\n",
       "2020-01-09                     1  2020-01-09   2020-01-09\n",
       "2020-01-10                     1  2020-01-10   2020-01-10\n",
       "2020-01-12                     1  2020-01-12   2020-01-12\n",
       "2020-01-13                     1  2020-01-13   2020-01-13\n",
       "2020-01-16                     1  2020-01-16   2020-01-16\n",
       "2020-01-21                     2  2020-01-21   2020-01-21\n",
       "2020-01-22                     3  2020-01-22   2020-01-22\n",
       "2020-01-24                     2  2020-01-24   2020-01-24"
      ]
     },
     "execution_count": 14,
     "metadata": {},
     "output_type": "execute_result"
    }
   ],
   "source": [
    "caseCountByDay.head(10)"
   ]
  },
  {
   "cell_type": "markdown",
   "metadata": {},
   "source": [
    "## Number of cases by week:"
   ]
  },
  {
   "cell_type": "code",
   "execution_count": null,
   "metadata": {
    "ExecuteTime": {
     "end_time": "2021-02-19T17:56:35.834912Z",
     "start_time": "2021-02-19T17:56:35.828614Z"
    }
   },
   "outputs": [],
   "source": [
    "# %d%m%Y\n",
    "caseCountByDay['AccurateEpisodeDate'] = pd.to_datetime(caseCountByDay['Accurate_Episode_Date'], format='%Y-%m-%d')"
   ]
  },
  {
   "cell_type": "code",
   "execution_count": null,
   "metadata": {
    "ExecuteTime": {
     "end_time": "2021-02-19T17:56:36.757949Z",
     "start_time": "2021-02-19T17:56:36.750776Z"
    }
   },
   "outputs": [],
   "source": [
    "caseCountByDay.head(10)"
   ]
  },
  {
   "cell_type": "code",
   "execution_count": null,
   "metadata": {},
   "outputs": [],
   "source": []
  }
 ],
 "metadata": {
  "kernelspec": {
   "display_name": "Python 3",
   "language": "python",
   "name": "python3"
  },
  "language_info": {
   "codemirror_mode": {
    "name": "ipython",
    "version": 3
   },
   "file_extension": ".py",
   "mimetype": "text/x-python",
   "name": "python",
   "nbconvert_exporter": "python",
   "pygments_lexer": "ipython3",
   "version": "3.8.5"
  }
 },
 "nbformat": 4,
 "nbformat_minor": 4
}
