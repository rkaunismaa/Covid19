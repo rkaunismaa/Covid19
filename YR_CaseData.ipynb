{
 "cells": [
  {
   "cell_type": "markdown",
   "id": "rapid-script",
   "metadata": {},
   "source": [
    "### YR_CaseData.csv"
   ]
  },
  {
   "cell_type": "markdown",
   "id": "recognized-belize",
   "metadata": {},
   "source": [
    "https://www.york.ca/wps/portal/yorkhome/health/yr/covid-19/covid19inyorkregion"
   ]
  },
  {
   "cell_type": "code",
   "execution_count": 1,
   "id": "sustainable-volume",
   "metadata": {},
   "outputs": [
    {
     "data": {
      "text/plain": [
       "('1.19.2', '1.2.2', '3.3.4')"
      ]
     },
     "execution_count": 1,
     "metadata": {},
     "output_type": "execute_result"
    }
   ],
   "source": [
    "import numpy as np\n",
    "import pandas as pd\n",
    "import matplotlib as mpl\n",
    "np.__version__, pd.__version__, mpl.__version__\n",
    "# ('1.19.2', '1.2.2')"
   ]
  },
  {
   "cell_type": "code",
   "execution_count": 2,
   "id": "waiting-keeping",
   "metadata": {},
   "outputs": [],
   "source": [
    "yyyymmdd = '2021-03-07'\n",
    "yyyymmdd = '2021-03-10'\n",
    "csvFileName = 'data/YR_CaseData-' +  yyyymmdd + '.csv'\n",
    "yrCaseData = pd.read_csv(csvFileName, \n",
    "                         header=0, \n",
    "                         index_col='Case Count',\n",
    "                         parse_dates=['Date Reported','Estimated Date of Onset'])"
   ]
  },
  {
   "cell_type": "code",
   "execution_count": 6,
   "id": "medium-tongue",
   "metadata": {},
   "outputs": [
    {
     "name": "stderr",
     "output_type": "stream",
     "text": [
      "/home/rob/anaconda3/envs/covid19/lib/python3.8/site-packages/pandas/core/generic.py:2778: UserWarning: The spaces in these column names will not be changed. In pandas versions < 0.14, spaces were converted to underscores.\n",
      "  sql.to_sql(\n"
     ]
    }
   ],
   "source": [
    "createDb = True\n",
    "\n",
    "if createDb:\n",
    "    \n",
    "    import sqlite3\n",
    "    # Connect to SQLite database \n",
    "    conn = sqlite3.connect(r'YR_CaseData.db') \n",
    "    # Load CSV data into Pandas DataFrame \n",
    "    yrCaseData.to_sql(yyyymmdd, conn, if_exists='replace', index=False) \n",
    "    # Close connection to SQLite database \n",
    "    conn.close() \n",
    "    "
   ]
  },
  {
   "cell_type": "code",
   "execution_count": 4,
   "id": "former-array",
   "metadata": {},
   "outputs": [
    {
     "name": "stdout",
     "output_type": "stream",
     "text": [
      "<class 'pandas.core.frame.DataFrame'>\n",
      "Int64Index: 29846 entries, 1 to 29846\n",
      "Data columns (total 8 columns):\n",
      " #   Column                   Non-Null Count  Dtype         \n",
      "---  ------                   --------------  -----         \n",
      " 0   Gender                   29846 non-null  object        \n",
      " 1   Age Decade               29846 non-null  object        \n",
      " 2   Municipality             29846 non-null  object        \n",
      " 3   Community                29846 non-null  object        \n",
      " 4   Date Reported            29846 non-null  datetime64[ns]\n",
      " 5   Estimated Date of Onset  29846 non-null  datetime64[ns]\n",
      " 6   Acquisition              29846 non-null  object        \n",
      " 7   Status                   29846 non-null  object        \n",
      "dtypes: datetime64[ns](2), object(6)\n",
      "memory usage: 2.0+ MB\n"
     ]
    }
   ],
   "source": [
    "yrCaseData.info()"
   ]
  },
  {
   "cell_type": "code",
   "execution_count": 5,
   "id": "eleven-renaissance",
   "metadata": {},
   "outputs": [
    {
     "data": {
      "text/html": [
       "<div>\n",
       "<style scoped>\n",
       "    .dataframe tbody tr th:only-of-type {\n",
       "        vertical-align: middle;\n",
       "    }\n",
       "\n",
       "    .dataframe tbody tr th {\n",
       "        vertical-align: top;\n",
       "    }\n",
       "\n",
       "    .dataframe thead th {\n",
       "        text-align: right;\n",
       "    }\n",
       "</style>\n",
       "<table border=\"1\" class=\"dataframe\">\n",
       "  <thead>\n",
       "    <tr style=\"text-align: right;\">\n",
       "      <th></th>\n",
       "      <th>Gender</th>\n",
       "      <th>Age Decade</th>\n",
       "      <th>Municipality</th>\n",
       "      <th>Community</th>\n",
       "      <th>Date Reported</th>\n",
       "      <th>Estimated Date of Onset</th>\n",
       "      <th>Acquisition</th>\n",
       "      <th>Status</th>\n",
       "    </tr>\n",
       "    <tr>\n",
       "      <th>Case Count</th>\n",
       "      <th></th>\n",
       "      <th></th>\n",
       "      <th></th>\n",
       "      <th></th>\n",
       "      <th></th>\n",
       "      <th></th>\n",
       "      <th></th>\n",
       "      <th></th>\n",
       "    </tr>\n",
       "  </thead>\n",
       "  <tbody>\n",
       "    <tr>\n",
       "      <th>1</th>\n",
       "      <td>Female</td>\n",
       "      <td>30s</td>\n",
       "      <td>Richmond Hill</td>\n",
       "      <td>Richmond Hill</td>\n",
       "      <td>2020-02-29</td>\n",
       "      <td>2020-02-27</td>\n",
       "      <td>Travel</td>\n",
       "      <td>Resolved</td>\n",
       "    </tr>\n",
       "    <tr>\n",
       "      <th>2</th>\n",
       "      <td>Female</td>\n",
       "      <td>60s</td>\n",
       "      <td>Richmond Hill</td>\n",
       "      <td>Richmond Hill</td>\n",
       "      <td>2020-03-02</td>\n",
       "      <td>2020-02-29</td>\n",
       "      <td>Travel</td>\n",
       "      <td>Resolved</td>\n",
       "    </tr>\n",
       "    <tr>\n",
       "      <th>3</th>\n",
       "      <td>Female</td>\n",
       "      <td>70s</td>\n",
       "      <td>Richmond Hill</td>\n",
       "      <td>Richmond Hill</td>\n",
       "      <td>2020-03-03</td>\n",
       "      <td>2020-02-29</td>\n",
       "      <td>Travel</td>\n",
       "      <td>Resolved</td>\n",
       "    </tr>\n",
       "    <tr>\n",
       "      <th>4</th>\n",
       "      <td>Male</td>\n",
       "      <td>40s</td>\n",
       "      <td>Richmond Hill</td>\n",
       "      <td>Richmond Hill</td>\n",
       "      <td>2020-03-04</td>\n",
       "      <td>2020-02-28</td>\n",
       "      <td>Travel</td>\n",
       "      <td>Resolved</td>\n",
       "    </tr>\n",
       "    <tr>\n",
       "      <th>5</th>\n",
       "      <td>Female</td>\n",
       "      <td>70s</td>\n",
       "      <td>Newmarket</td>\n",
       "      <td>Newmarket</td>\n",
       "      <td>2020-03-04</td>\n",
       "      <td>2020-02-29</td>\n",
       "      <td>Travel</td>\n",
       "      <td>Resolved</td>\n",
       "    </tr>\n",
       "    <tr>\n",
       "      <th>6</th>\n",
       "      <td>Male</td>\n",
       "      <td>50s</td>\n",
       "      <td>Vaughan</td>\n",
       "      <td>Maple</td>\n",
       "      <td>2020-03-04</td>\n",
       "      <td>2020-02-27</td>\n",
       "      <td>Travel</td>\n",
       "      <td>Resolved</td>\n",
       "    </tr>\n",
       "    <tr>\n",
       "      <th>7</th>\n",
       "      <td>Female</td>\n",
       "      <td>60s</td>\n",
       "      <td>Richmond Hill</td>\n",
       "      <td>Richmond Hill</td>\n",
       "      <td>2020-03-06</td>\n",
       "      <td>2020-02-28</td>\n",
       "      <td>Travel</td>\n",
       "      <td>Resolved</td>\n",
       "    </tr>\n",
       "    <tr>\n",
       "      <th>8</th>\n",
       "      <td>Female</td>\n",
       "      <td>30s</td>\n",
       "      <td>Vaughan</td>\n",
       "      <td>Maple</td>\n",
       "      <td>2020-03-11</td>\n",
       "      <td>2020-03-06</td>\n",
       "      <td>Travel</td>\n",
       "      <td>Resolved</td>\n",
       "    </tr>\n",
       "    <tr>\n",
       "      <th>9</th>\n",
       "      <td>Female</td>\n",
       "      <td>20s</td>\n",
       "      <td>Vaughan</td>\n",
       "      <td>Maple</td>\n",
       "      <td>2020-03-13</td>\n",
       "      <td>2020-03-08</td>\n",
       "      <td>Travel</td>\n",
       "      <td>Resolved</td>\n",
       "    </tr>\n",
       "    <tr>\n",
       "      <th>10</th>\n",
       "      <td>Female</td>\n",
       "      <td>60s</td>\n",
       "      <td>Vaughan</td>\n",
       "      <td>Maple</td>\n",
       "      <td>2020-03-15</td>\n",
       "      <td>2020-03-10</td>\n",
       "      <td>Travel</td>\n",
       "      <td>Resolved</td>\n",
       "    </tr>\n",
       "  </tbody>\n",
       "</table>\n",
       "</div>"
      ],
      "text/plain": [
       "            Gender Age Decade   Municipality      Community Date Reported  \\\n",
       "Case Count                                                                  \n",
       "1           Female        30s  Richmond Hill  Richmond Hill    2020-02-29   \n",
       "2           Female        60s  Richmond Hill  Richmond Hill    2020-03-02   \n",
       "3           Female        70s  Richmond Hill  Richmond Hill    2020-03-03   \n",
       "4             Male        40s  Richmond Hill  Richmond Hill    2020-03-04   \n",
       "5           Female        70s      Newmarket      Newmarket    2020-03-04   \n",
       "6             Male        50s        Vaughan          Maple    2020-03-04   \n",
       "7           Female        60s  Richmond Hill  Richmond Hill    2020-03-06   \n",
       "8           Female        30s        Vaughan          Maple    2020-03-11   \n",
       "9           Female        20s        Vaughan          Maple    2020-03-13   \n",
       "10          Female        60s        Vaughan          Maple    2020-03-15   \n",
       "\n",
       "           Estimated Date of Onset Acquisition    Status  \n",
       "Case Count                                                \n",
       "1                       2020-02-27      Travel  Resolved  \n",
       "2                       2020-02-29      Travel  Resolved  \n",
       "3                       2020-02-29      Travel  Resolved  \n",
       "4                       2020-02-28      Travel  Resolved  \n",
       "5                       2020-02-29      Travel  Resolved  \n",
       "6                       2020-02-27      Travel  Resolved  \n",
       "7                       2020-02-28      Travel  Resolved  \n",
       "8                       2020-03-06      Travel  Resolved  \n",
       "9                       2020-03-08      Travel  Resolved  \n",
       "10                      2020-03-10      Travel  Resolved  "
      ]
     },
     "execution_count": 5,
     "metadata": {},
     "output_type": "execute_result"
    }
   ],
   "source": [
    "yrCaseData.head(10)"
   ]
  },
  {
   "cell_type": "code",
   "execution_count": null,
   "id": "danish-error",
   "metadata": {},
   "outputs": [],
   "source": [
    "for column in enumerate(['Gender', 'Age Decade', 'Municipality', 'Community', 'Acquisition', 'Status']):\n",
    "    print(column[1], '=>', yrCaseData[column[1]].unique().tolist())"
   ]
  },
  {
   "cell_type": "code",
   "execution_count": null,
   "id": "false-antenna",
   "metadata": {},
   "outputs": [],
   "source": []
  }
 ],
 "metadata": {
  "kernelspec": {
   "display_name": "Python 3",
   "language": "python",
   "name": "python3"
  },
  "language_info": {
   "codemirror_mode": {
    "name": "ipython",
    "version": 3
   },
   "file_extension": ".py",
   "mimetype": "text/x-python",
   "name": "python",
   "nbconvert_exporter": "python",
   "pygments_lexer": "ipython3",
   "version": "3.8.5"
  }
 },
 "nbformat": 4,
 "nbformat_minor": 5
}
